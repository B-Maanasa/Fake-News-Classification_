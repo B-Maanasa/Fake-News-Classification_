{
 "cells": [
  {
   "cell_type": "markdown",
   "id": "597af9bb",
   "metadata": {},
   "source": [
    "### Report on Machine Learning Project\n",
    "# FAKE NEWS CLASSIFICATION\n",
    " \n",
    "### Submitted By:\n",
    "- Name: B Naga Padma Maanasa\n",
    "- Registration Number: 12016660\n",
    "- Roll Number: RK20CHA05\n",
    "- School of Computer Science and Engineering\n",
    "- LOVELY PROFESSIONAL UNIVERSITY\n",
    "- Phagwara, Punjab.\n"
   ]
  },
  {
   "cell_type": "markdown",
   "id": "4ebfa1ab",
   "metadata": {},
   "source": [
    "## Introduction"
   ]
  },
  {
   "cell_type": "markdown",
   "id": "b424f588",
   "metadata": {},
   "source": [
    "- Fake news classification refers to the process of identifying and categorizing news articles or other types of media that contain intentionally misleading, false, or fabricated information. With the increasing prevalence of social media and online news sources, fake news has become a serious problem that can have far-reaching consequences. It can be used to spread misinformation, influence public opinion, and even manipulate political outcomes.\n",
    "\n",
    "- To address this problem, researchers and experts in the field have developed a number of different techniques and tools for detecting and classifying fake news. Some of the most commonly used methods include machine learning algorithms, natural language processing, and network analysis. These techniques allow analysts to analyze the content and structure of news articles, identify patterns and features that distinguish fake from real news, and classify articles into different categories based on their level of credibility.\n",
    "\n",
    "- However, detecting and classifying fake news is not always straightforward. One of the key challenges is the dynamic and evolving nature of the phenomenon. Fake news can take many different forms, and new techniques for spreading false information are constantly being developed. As a result, fake news classification requires ongoing research and development of new methods and approaches.\n",
    "\n",
    "- Despite these challenges, the importance of fake news classification cannot be overstated. Fake news can have serious consequences in various areas, such as politics, public health, and security. It can spread misinformation, undermine trust in the media and other information sources, propagate biased or discriminatory views, and even be used to manipulate public opinion or behavior. By detecting and labeling fake news, we can reduce the impact of these negative effects and help people make more informed decisions based on accurate and trustworthy information.\n",
    "\n",
    "- In addition, fake news classification can help promote a more informed and democratic society. When people have access to reliable information, they are better equipped to participate in public discourse, make informed decisions, and hold their leaders accountable. This can contribute to a more just and equitable society, where individuals are empowered to advocate for their own interests and those of their communities.\n",
    "\n",
    "- Starting with making the model:"
   ]
  },
  {
   "cell_type": "markdown",
   "id": "0076f340",
   "metadata": {},
   "source": [
    "## Importing the Libraries"
   ]
  },
  {
   "cell_type": "code",
   "execution_count": 42,
   "id": "19a936f0",
   "metadata": {
    "execution": {
     "iopub.execute_input": "2023-05-04T12:27:07.581381Z",
     "iopub.status.busy": "2023-05-04T12:27:07.580952Z",
     "iopub.status.idle": "2023-05-04T12:27:26.088232Z",
     "shell.execute_reply": "2023-05-04T12:27:26.087317Z",
     "shell.execute_reply.started": "2023-05-04T12:27:07.581345Z"
    }
   },
   "outputs": [],
   "source": [
    "# Data Pre-Processing Libraries\n",
    "import pandas as pd\n",
    "import numpy as np \n",
    "# Data  Visualisation Libraries\n",
    "import seaborn as sns\n",
    "import matplotlib.pyplot as plt\n",
    "import plotly.express as px\n",
    "import plotly.graph_objects as go \n",
    "# Handling Warnings\n",
    "import warnings\n",
    "warnings.filterwarnings('ignore')\n",
    "# Text Pre-Processing Libraries\n",
    "import re\n",
    "import string\n",
    "string.punctuation\n",
    "import spacy\n",
    "import nltk\n",
    "from nltk.stem.porter import PorterStemmer\n",
    "from nltk.stem import WordNetLemmatizer\n",
    "\n",
    "from wordcloud import WordCloud\n",
    "# Machine Learning Libraries\n",
    "from sklearn.linear_model import LogisticRegression\n",
    "from sklearn.metrics import accuracy_score\n",
    "from sklearn.metrics import classification_report\n",
    "from sklearn.metrics import recall_score\n",
    "from sklearn.metrics import precision_score\n",
    "from sklearn.metrics import classification_report , confusion_matrix"
   ]
  },
  {
   "cell_type": "markdown",
   "id": "b656df9d",
   "metadata": {},
   "source": [
    "## Reading the Files"
   ]
  },
  {
   "cell_type": "code",
   "execution_count": 43,
   "id": "7be9a7cc",
   "metadata": {
    "execution": {
     "iopub.execute_input": "2023-05-04T12:27:26.090624Z",
     "iopub.status.busy": "2023-05-04T12:27:26.089873Z",
     "iopub.status.idle": "2023-05-04T12:27:28.864761Z",
     "shell.execute_reply": "2023-05-04T12:27:28.863772Z",
     "shell.execute_reply.started": "2023-05-04T12:27:26.090589Z"
    }
   },
   "outputs": [],
   "source": [
    "fake = pd.read_csv('Fake.csv')\n",
    "real =pd.read_csv('True.csv')"
   ]
  },
  {
   "cell_type": "code",
   "execution_count": 44,
   "id": "4d545075",
   "metadata": {},
   "outputs": [],
   "source": [
    "fake = fake.head(2000)\n",
    "real = real.head(2000)"
   ]
  },
  {
   "cell_type": "markdown",
   "id": "de891924",
   "metadata": {},
   "source": [
    "## Cleaning and Pre-processing  "
   ]
  },
  {
   "cell_type": "code",
   "execution_count": 33,
   "id": "17218dd7",
   "metadata": {
    "execution": {
     "iopub.execute_input": "2023-05-04T12:34:49.037889Z",
     "iopub.status.busy": "2023-05-04T12:34:49.037402Z",
     "iopub.status.idle": "2023-05-04T12:34:49.049051Z",
     "shell.execute_reply": "2023-05-04T12:34:49.048149Z",
     "shell.execute_reply.started": "2023-05-04T12:34:49.037847Z"
    },
    "scrolled": true
   },
   "outputs": [
    {
     "data": {
      "text/plain": [
       "(2000, 5)"
      ]
     },
     "execution_count": 33,
     "metadata": {},
     "output_type": "execute_result"
    }
   ],
   "source": [
    "fake.shape"
   ]
  },
  {
   "cell_type": "code",
   "execution_count": 36,
   "id": "955dd4b3",
   "metadata": {},
   "outputs": [
    {
     "data": {
      "text/html": [
       "<div>\n",
       "<style scoped>\n",
       "    .dataframe tbody tr th:only-of-type {\n",
       "        vertical-align: middle;\n",
       "    }\n",
       "\n",
       "    .dataframe tbody tr th {\n",
       "        vertical-align: top;\n",
       "    }\n",
       "\n",
       "    .dataframe thead th {\n",
       "        text-align: right;\n",
       "    }\n",
       "</style>\n",
       "<table border=\"1\" class=\"dataframe\">\n",
       "  <thead>\n",
       "    <tr style=\"text-align: right;\">\n",
       "      <th></th>\n",
       "      <th>title</th>\n",
       "      <th>text</th>\n",
       "      <th>subject</th>\n",
       "      <th>date</th>\n",
       "      <th>category</th>\n",
       "    </tr>\n",
       "  </thead>\n",
       "  <tbody>\n",
       "    <tr>\n",
       "      <th>0</th>\n",
       "      <td>Donald Trump Sends Out Embarrassing New Year’...</td>\n",
       "      <td>Donald Trump just couldn t wish all Americans ...</td>\n",
       "      <td>News</td>\n",
       "      <td>December 31, 2017</td>\n",
       "      <td>1</td>\n",
       "    </tr>\n",
       "    <tr>\n",
       "      <th>1</th>\n",
       "      <td>Drunk Bragging Trump Staffer Started Russian ...</td>\n",
       "      <td>House Intelligence Committee Chairman Devin Nu...</td>\n",
       "      <td>News</td>\n",
       "      <td>December 31, 2017</td>\n",
       "      <td>1</td>\n",
       "    </tr>\n",
       "    <tr>\n",
       "      <th>2</th>\n",
       "      <td>Sheriff David Clarke Becomes An Internet Joke...</td>\n",
       "      <td>On Friday, it was revealed that former Milwauk...</td>\n",
       "      <td>News</td>\n",
       "      <td>December 30, 2017</td>\n",
       "      <td>1</td>\n",
       "    </tr>\n",
       "    <tr>\n",
       "      <th>3</th>\n",
       "      <td>Trump Is So Obsessed He Even Has Obama’s Name...</td>\n",
       "      <td>On Christmas day, Donald Trump announced that ...</td>\n",
       "      <td>News</td>\n",
       "      <td>December 29, 2017</td>\n",
       "      <td>1</td>\n",
       "    </tr>\n",
       "    <tr>\n",
       "      <th>4</th>\n",
       "      <td>Pope Francis Just Called Out Donald Trump Dur...</td>\n",
       "      <td>Pope Francis used his annual Christmas Day mes...</td>\n",
       "      <td>News</td>\n",
       "      <td>December 25, 2017</td>\n",
       "      <td>1</td>\n",
       "    </tr>\n",
       "  </tbody>\n",
       "</table>\n",
       "</div>"
      ],
      "text/plain": [
       "                                               title  \\\n",
       "0   Donald Trump Sends Out Embarrassing New Year’...   \n",
       "1   Drunk Bragging Trump Staffer Started Russian ...   \n",
       "2   Sheriff David Clarke Becomes An Internet Joke...   \n",
       "3   Trump Is So Obsessed He Even Has Obama’s Name...   \n",
       "4   Pope Francis Just Called Out Donald Trump Dur...   \n",
       "\n",
       "                                                text subject  \\\n",
       "0  Donald Trump just couldn t wish all Americans ...    News   \n",
       "1  House Intelligence Committee Chairman Devin Nu...    News   \n",
       "2  On Friday, it was revealed that former Milwauk...    News   \n",
       "3  On Christmas day, Donald Trump announced that ...    News   \n",
       "4  Pope Francis used his annual Christmas Day mes...    News   \n",
       "\n",
       "                date  category  \n",
       "0  December 31, 2017         1  \n",
       "1  December 31, 2017         1  \n",
       "2  December 30, 2017         1  \n",
       "3  December 29, 2017         1  \n",
       "4  December 25, 2017         1  "
      ]
     },
     "execution_count": 36,
     "metadata": {},
     "output_type": "execute_result"
    }
   ],
   "source": [
    "fake.head()"
   ]
  },
  {
   "cell_type": "code",
   "execution_count": 5,
   "id": "38e94cdc",
   "metadata": {
    "execution": {
     "iopub.execute_input": "2023-05-04T12:27:28.898942Z",
     "iopub.status.busy": "2023-05-04T12:27:28.898040Z",
     "iopub.status.idle": "2023-05-04T12:27:28.909968Z",
     "shell.execute_reply": "2023-05-04T12:27:28.909055Z",
     "shell.execute_reply.started": "2023-05-04T12:27:28.898906Z"
    }
   },
   "outputs": [
    {
     "data": {
      "text/html": [
       "<div>\n",
       "<style scoped>\n",
       "    .dataframe tbody tr th:only-of-type {\n",
       "        vertical-align: middle;\n",
       "    }\n",
       "\n",
       "    .dataframe tbody tr th {\n",
       "        vertical-align: top;\n",
       "    }\n",
       "\n",
       "    .dataframe thead th {\n",
       "        text-align: right;\n",
       "    }\n",
       "</style>\n",
       "<table border=\"1\" class=\"dataframe\">\n",
       "  <thead>\n",
       "    <tr style=\"text-align: right;\">\n",
       "      <th></th>\n",
       "      <th>title</th>\n",
       "      <th>text</th>\n",
       "      <th>subject</th>\n",
       "      <th>date</th>\n",
       "    </tr>\n",
       "  </thead>\n",
       "  <tbody>\n",
       "    <tr>\n",
       "      <th>1995</th>\n",
       "      <td>Watch Legendary Reporter Ted Koppel Tell Hann...</td>\n",
       "      <td>With the cool, calm authority that comes with ...</td>\n",
       "      <td>News</td>\n",
       "      <td>March 26, 2017</td>\n",
       "    </tr>\n",
       "    <tr>\n",
       "      <th>1996</th>\n",
       "      <td>Someone Just Showed What Trump Was Doing At H...</td>\n",
       "      <td>One day after Trump had his 12th golfing trip ...</td>\n",
       "      <td>News</td>\n",
       "      <td>March 26, 2017</td>\n",
       "    </tr>\n",
       "    <tr>\n",
       "      <th>1997</th>\n",
       "      <td>Trump Accidentally Makes Democrats Look Great...</td>\n",
       "      <td>Less than 24 hours after Trump claimed he woul...</td>\n",
       "      <td>News</td>\n",
       "      <td>March 26, 2017</td>\n",
       "    </tr>\n",
       "    <tr>\n",
       "      <th>1998</th>\n",
       "      <td>Kremlin Threatens Trump: Stop Leaking Like A ...</td>\n",
       "      <td>Snitches get stitches  is Kremlin s message t...</td>\n",
       "      <td>News</td>\n",
       "      <td>March 26, 2017</td>\n",
       "    </tr>\n",
       "    <tr>\n",
       "      <th>1999</th>\n",
       "      <td>Republicans Turn On Trump, Throw Him Under Th...</td>\n",
       "      <td>When Republicans celebrated Donald Trump s und...</td>\n",
       "      <td>News</td>\n",
       "      <td>March 25, 2017</td>\n",
       "    </tr>\n",
       "  </tbody>\n",
       "</table>\n",
       "</div>"
      ],
      "text/plain": [
       "                                                  title  \\\n",
       "1995   Watch Legendary Reporter Ted Koppel Tell Hann...   \n",
       "1996   Someone Just Showed What Trump Was Doing At H...   \n",
       "1997   Trump Accidentally Makes Democrats Look Great...   \n",
       "1998   Kremlin Threatens Trump: Stop Leaking Like A ...   \n",
       "1999   Republicans Turn On Trump, Throw Him Under Th...   \n",
       "\n",
       "                                                   text subject  \\\n",
       "1995  With the cool, calm authority that comes with ...    News   \n",
       "1996  One day after Trump had his 12th golfing trip ...    News   \n",
       "1997  Less than 24 hours after Trump claimed he woul...    News   \n",
       "1998   Snitches get stitches  is Kremlin s message t...    News   \n",
       "1999  When Republicans celebrated Donald Trump s und...    News   \n",
       "\n",
       "                date  \n",
       "1995  March 26, 2017  \n",
       "1996  March 26, 2017  \n",
       "1997  March 26, 2017  \n",
       "1998  March 26, 2017  \n",
       "1999  March 25, 2017  "
      ]
     },
     "execution_count": 5,
     "metadata": {},
     "output_type": "execute_result"
    }
   ],
   "source": [
    "fake.tail()"
   ]
  },
  {
   "cell_type": "code",
   "execution_count": 37,
   "id": "216cb7d7",
   "metadata": {},
   "outputs": [
    {
     "data": {
      "text/plain": [
       "(1989, 5)"
      ]
     },
     "execution_count": 37,
     "metadata": {},
     "output_type": "execute_result"
    }
   ],
   "source": [
    "real.shape"
   ]
  },
  {
   "cell_type": "code",
   "execution_count": 6,
   "id": "b98c171a",
   "metadata": {
    "execution": {
     "iopub.execute_input": "2023-05-04T12:27:28.912401Z",
     "iopub.status.busy": "2023-05-04T12:27:28.911505Z",
     "iopub.status.idle": "2023-05-04T12:27:28.925064Z",
     "shell.execute_reply": "2023-05-04T12:27:28.924132Z",
     "shell.execute_reply.started": "2023-05-04T12:27:28.912359Z"
    },
    "scrolled": true
   },
   "outputs": [
    {
     "data": {
      "text/html": [
       "<div>\n",
       "<style scoped>\n",
       "    .dataframe tbody tr th:only-of-type {\n",
       "        vertical-align: middle;\n",
       "    }\n",
       "\n",
       "    .dataframe tbody tr th {\n",
       "        vertical-align: top;\n",
       "    }\n",
       "\n",
       "    .dataframe thead th {\n",
       "        text-align: right;\n",
       "    }\n",
       "</style>\n",
       "<table border=\"1\" class=\"dataframe\">\n",
       "  <thead>\n",
       "    <tr style=\"text-align: right;\">\n",
       "      <th></th>\n",
       "      <th>title</th>\n",
       "      <th>text</th>\n",
       "      <th>subject</th>\n",
       "      <th>date</th>\n",
       "    </tr>\n",
       "  </thead>\n",
       "  <tbody>\n",
       "    <tr>\n",
       "      <th>0</th>\n",
       "      <td>As U.S. budget fight looms, Republicans flip t...</td>\n",
       "      <td>WASHINGTON (Reuters) - The head of a conservat...</td>\n",
       "      <td>politicsNews</td>\n",
       "      <td>December 31, 2017</td>\n",
       "    </tr>\n",
       "    <tr>\n",
       "      <th>1</th>\n",
       "      <td>U.S. military to accept transgender recruits o...</td>\n",
       "      <td>WASHINGTON (Reuters) - Transgender people will...</td>\n",
       "      <td>politicsNews</td>\n",
       "      <td>December 29, 2017</td>\n",
       "    </tr>\n",
       "    <tr>\n",
       "      <th>2</th>\n",
       "      <td>Senior U.S. Republican senator: 'Let Mr. Muell...</td>\n",
       "      <td>WASHINGTON (Reuters) - The special counsel inv...</td>\n",
       "      <td>politicsNews</td>\n",
       "      <td>December 31, 2017</td>\n",
       "    </tr>\n",
       "    <tr>\n",
       "      <th>3</th>\n",
       "      <td>FBI Russia probe helped by Australian diplomat...</td>\n",
       "      <td>WASHINGTON (Reuters) - Trump campaign adviser ...</td>\n",
       "      <td>politicsNews</td>\n",
       "      <td>December 30, 2017</td>\n",
       "    </tr>\n",
       "    <tr>\n",
       "      <th>4</th>\n",
       "      <td>Trump wants Postal Service to charge 'much mor...</td>\n",
       "      <td>SEATTLE/WASHINGTON (Reuters) - President Donal...</td>\n",
       "      <td>politicsNews</td>\n",
       "      <td>December 29, 2017</td>\n",
       "    </tr>\n",
       "  </tbody>\n",
       "</table>\n",
       "</div>"
      ],
      "text/plain": [
       "                                               title  \\\n",
       "0  As U.S. budget fight looms, Republicans flip t...   \n",
       "1  U.S. military to accept transgender recruits o...   \n",
       "2  Senior U.S. Republican senator: 'Let Mr. Muell...   \n",
       "3  FBI Russia probe helped by Australian diplomat...   \n",
       "4  Trump wants Postal Service to charge 'much mor...   \n",
       "\n",
       "                                                text       subject  \\\n",
       "0  WASHINGTON (Reuters) - The head of a conservat...  politicsNews   \n",
       "1  WASHINGTON (Reuters) - Transgender people will...  politicsNews   \n",
       "2  WASHINGTON (Reuters) - The special counsel inv...  politicsNews   \n",
       "3  WASHINGTON (Reuters) - Trump campaign adviser ...  politicsNews   \n",
       "4  SEATTLE/WASHINGTON (Reuters) - President Donal...  politicsNews   \n",
       "\n",
       "                 date  \n",
       "0  December 31, 2017   \n",
       "1  December 29, 2017   \n",
       "2  December 31, 2017   \n",
       "3  December 30, 2017   \n",
       "4  December 29, 2017   "
      ]
     },
     "execution_count": 6,
     "metadata": {},
     "output_type": "execute_result"
    }
   ],
   "source": [
    "real.head()"
   ]
  },
  {
   "cell_type": "code",
   "execution_count": 7,
   "id": "98706477",
   "metadata": {
    "execution": {
     "iopub.execute_input": "2023-05-04T12:27:28.927267Z",
     "iopub.status.busy": "2023-05-04T12:27:28.926586Z",
     "iopub.status.idle": "2023-05-04T12:27:28.940402Z",
     "shell.execute_reply": "2023-05-04T12:27:28.939216Z",
     "shell.execute_reply.started": "2023-05-04T12:27:28.927233Z"
    }
   },
   "outputs": [
    {
     "data": {
      "text/html": [
       "<div>\n",
       "<style scoped>\n",
       "    .dataframe tbody tr th:only-of-type {\n",
       "        vertical-align: middle;\n",
       "    }\n",
       "\n",
       "    .dataframe tbody tr th {\n",
       "        vertical-align: top;\n",
       "    }\n",
       "\n",
       "    .dataframe thead th {\n",
       "        text-align: right;\n",
       "    }\n",
       "</style>\n",
       "<table border=\"1\" class=\"dataframe\">\n",
       "  <thead>\n",
       "    <tr style=\"text-align: right;\">\n",
       "      <th></th>\n",
       "      <th>title</th>\n",
       "      <th>text</th>\n",
       "      <th>subject</th>\n",
       "      <th>date</th>\n",
       "    </tr>\n",
       "  </thead>\n",
       "  <tbody>\n",
       "    <tr>\n",
       "      <th>1995</th>\n",
       "      <td>Trump rescinds Obama limits on transfer of mil...</td>\n",
       "      <td>WASHINGTON (Reuters) - U.S. President Donald T...</td>\n",
       "      <td>politicsNews</td>\n",
       "      <td>August 28, 2017</td>\n",
       "    </tr>\n",
       "    <tr>\n",
       "      <th>1996</th>\n",
       "      <td>Lawmakers should OK relief for Harvey victims:...</td>\n",
       "      <td>WASHINGTON (Reuters) - U.S. House of Represent...</td>\n",
       "      <td>politicsNews</td>\n",
       "      <td>August 28, 2017</td>\n",
       "    </tr>\n",
       "    <tr>\n",
       "      <th>1997</th>\n",
       "      <td>Energy Secretary Perry cancels Kazakhstan visi...</td>\n",
       "      <td>ALMATY (Reuters) - United States Energy Secret...</td>\n",
       "      <td>politicsNews</td>\n",
       "      <td>August 28, 2017</td>\n",
       "    </tr>\n",
       "    <tr>\n",
       "      <th>1998</th>\n",
       "      <td>Trump's firm sought Moscow real estate deal du...</td>\n",
       "      <td>WASHINGTON (Reuters) - Donald Trump’s company ...</td>\n",
       "      <td>politicsNews</td>\n",
       "      <td>August 28, 2017</td>\n",
       "    </tr>\n",
       "    <tr>\n",
       "      <th>1999</th>\n",
       "      <td>Trump renews threat to scrap NAFTA going into ...</td>\n",
       "      <td>WASHINGTON (Reuters) - U.S. President Donald T...</td>\n",
       "      <td>politicsNews</td>\n",
       "      <td>August 27, 2017</td>\n",
       "    </tr>\n",
       "  </tbody>\n",
       "</table>\n",
       "</div>"
      ],
      "text/plain": [
       "                                                  title  \\\n",
       "1995  Trump rescinds Obama limits on transfer of mil...   \n",
       "1996  Lawmakers should OK relief for Harvey victims:...   \n",
       "1997  Energy Secretary Perry cancels Kazakhstan visi...   \n",
       "1998  Trump's firm sought Moscow real estate deal du...   \n",
       "1999  Trump renews threat to scrap NAFTA going into ...   \n",
       "\n",
       "                                                   text       subject  \\\n",
       "1995  WASHINGTON (Reuters) - U.S. President Donald T...  politicsNews   \n",
       "1996  WASHINGTON (Reuters) - U.S. House of Represent...  politicsNews   \n",
       "1997  ALMATY (Reuters) - United States Energy Secret...  politicsNews   \n",
       "1998  WASHINGTON (Reuters) - Donald Trump’s company ...  politicsNews   \n",
       "1999  WASHINGTON (Reuters) - U.S. President Donald T...  politicsNews   \n",
       "\n",
       "                  date  \n",
       "1995  August 28, 2017   \n",
       "1996  August 28, 2017   \n",
       "1997  August 28, 2017   \n",
       "1998  August 28, 2017   \n",
       "1999  August 27, 2017   "
      ]
     },
     "execution_count": 7,
     "metadata": {},
     "output_type": "execute_result"
    }
   ],
   "source": [
    "real.tail()"
   ]
  },
  {
   "cell_type": "code",
   "execution_count": 8,
   "id": "41e3aa99",
   "metadata": {
    "execution": {
     "iopub.execute_input": "2023-05-04T12:27:28.942987Z",
     "iopub.status.busy": "2023-05-04T12:27:28.942209Z",
     "iopub.status.idle": "2023-05-04T12:27:28.968504Z",
     "shell.execute_reply": "2023-05-04T12:27:28.967423Z",
     "shell.execute_reply.started": "2023-05-04T12:27:28.942947Z"
    }
   },
   "outputs": [
    {
     "name": "stdout",
     "output_type": "stream",
     "text": [
      "<class 'pandas.core.frame.DataFrame'>\n",
      "RangeIndex: 2000 entries, 0 to 1999\n",
      "Data columns (total 4 columns):\n",
      " #   Column   Non-Null Count  Dtype \n",
      "---  ------   --------------  ----- \n",
      " 0   title    2000 non-null   object\n",
      " 1   text     2000 non-null   object\n",
      " 2   subject  2000 non-null   object\n",
      " 3   date     2000 non-null   object\n",
      "dtypes: object(4)\n",
      "memory usage: 62.6+ KB\n"
     ]
    }
   ],
   "source": [
    "real.info()"
   ]
  },
  {
   "cell_type": "code",
   "execution_count": 9,
   "id": "39f15728",
   "metadata": {
    "execution": {
     "iopub.execute_input": "2023-05-04T12:27:28.970896Z",
     "iopub.status.busy": "2023-05-04T12:27:28.970203Z",
     "iopub.status.idle": "2023-05-04T12:27:28.987003Z",
     "shell.execute_reply": "2023-05-04T12:27:28.985768Z",
     "shell.execute_reply.started": "2023-05-04T12:27:28.970858Z"
    }
   },
   "outputs": [
    {
     "name": "stdout",
     "output_type": "stream",
     "text": [
      "<class 'pandas.core.frame.DataFrame'>\n",
      "RangeIndex: 2000 entries, 0 to 1999\n",
      "Data columns (total 4 columns):\n",
      " #   Column   Non-Null Count  Dtype \n",
      "---  ------   --------------  ----- \n",
      " 0   title    2000 non-null   object\n",
      " 1   text     2000 non-null   object\n",
      " 2   subject  2000 non-null   object\n",
      " 3   date     2000 non-null   object\n",
      "dtypes: object(4)\n",
      "memory usage: 62.6+ KB\n"
     ]
    }
   ],
   "source": [
    "fake.info()"
   ]
  },
  {
   "cell_type": "code",
   "execution_count": 10,
   "id": "8b7f7e07",
   "metadata": {
    "execution": {
     "iopub.execute_input": "2023-05-04T12:27:28.992684Z",
     "iopub.status.busy": "2023-05-04T12:27:28.992359Z",
     "iopub.status.idle": "2023-05-04T12:27:29.015372Z",
     "shell.execute_reply": "2023-05-04T12:27:29.014245Z",
     "shell.execute_reply.started": "2023-05-04T12:27:28.992656Z"
    }
   },
   "outputs": [
    {
     "data": {
      "text/plain": [
       "0"
      ]
     },
     "execution_count": 10,
     "metadata": {},
     "output_type": "execute_result"
    }
   ],
   "source": [
    "fake.duplicated().sum()"
   ]
  },
  {
   "cell_type": "code",
   "execution_count": 12,
   "id": "16605095",
   "metadata": {
    "execution": {
     "iopub.execute_input": "2023-05-04T12:27:29.040261Z",
     "iopub.status.busy": "2023-05-04T12:27:29.039918Z",
     "iopub.status.idle": "2023-05-04T12:27:29.068835Z",
     "shell.execute_reply": "2023-05-04T12:27:29.067834Z",
     "shell.execute_reply.started": "2023-05-04T12:27:29.040229Z"
    },
    "scrolled": true
   },
   "outputs": [
    {
     "data": {
      "text/plain": [
       "11"
      ]
     },
     "execution_count": 12,
     "metadata": {},
     "output_type": "execute_result"
    }
   ],
   "source": [
    "real.duplicated().sum()"
   ]
  },
  {
   "cell_type": "code",
   "execution_count": 13,
   "id": "c65442fb",
   "metadata": {
    "execution": {
     "iopub.execute_input": "2023-05-04T12:27:29.070940Z",
     "iopub.status.busy": "2023-05-04T12:27:29.070497Z",
     "iopub.status.idle": "2023-05-04T12:27:29.088868Z",
     "shell.execute_reply": "2023-05-04T12:27:29.088035Z",
     "shell.execute_reply.started": "2023-05-04T12:27:29.070909Z"
    }
   },
   "outputs": [],
   "source": [
    "real.drop_duplicates(inplace=True)"
   ]
  },
  {
   "cell_type": "markdown",
   "id": "ff0743de",
   "metadata": {},
   "source": [
    "### Creating a new  column Category "
   ]
  },
  {
   "cell_type": "code",
   "execution_count": 45,
   "id": "74f184e1",
   "metadata": {
    "execution": {
     "iopub.execute_input": "2023-05-04T12:27:29.090845Z",
     "iopub.status.busy": "2023-05-04T12:27:29.090480Z",
     "iopub.status.idle": "2023-05-04T12:27:29.098529Z",
     "shell.execute_reply": "2023-05-04T12:27:29.097330Z",
     "shell.execute_reply.started": "2023-05-04T12:27:29.090798Z"
    }
   },
   "outputs": [],
   "source": [
    "real['category'] = 0\n",
    "fake['category'] = 1"
   ]
  },
  {
   "cell_type": "markdown",
   "id": "37be59fc",
   "metadata": {},
   "source": [
    "- Cateogry helps us to understand wether the news is real or fake where real is represented with 0 and fake is 1."
   ]
  },
  {
   "cell_type": "markdown",
   "id": "fae65edf",
   "metadata": {},
   "source": [
    "## Creating a new data set cobining both the datsets"
   ]
  },
  {
   "cell_type": "code",
   "execution_count": 46,
   "id": "76f6bea0",
   "metadata": {
    "execution": {
     "iopub.execute_input": "2023-05-04T12:27:29.100911Z",
     "iopub.status.busy": "2023-05-04T12:27:29.100572Z",
     "iopub.status.idle": "2023-05-04T12:27:29.117588Z",
     "shell.execute_reply": "2023-05-04T12:27:29.116515Z",
     "shell.execute_reply.started": "2023-05-04T12:27:29.100880Z"
    },
    "scrolled": true
   },
   "outputs": [
    {
     "data": {
      "text/html": [
       "<div>\n",
       "<style scoped>\n",
       "    .dataframe tbody tr th:only-of-type {\n",
       "        vertical-align: middle;\n",
       "    }\n",
       "\n",
       "    .dataframe tbody tr th {\n",
       "        vertical-align: top;\n",
       "    }\n",
       "\n",
       "    .dataframe thead th {\n",
       "        text-align: right;\n",
       "    }\n",
       "</style>\n",
       "<table border=\"1\" class=\"dataframe\">\n",
       "  <thead>\n",
       "    <tr style=\"text-align: right;\">\n",
       "      <th></th>\n",
       "      <th>title</th>\n",
       "      <th>text</th>\n",
       "      <th>subject</th>\n",
       "      <th>date</th>\n",
       "      <th>category</th>\n",
       "    </tr>\n",
       "  </thead>\n",
       "  <tbody>\n",
       "    <tr>\n",
       "      <th>0</th>\n",
       "      <td>As U.S. budget fight looms, Republicans flip t...</td>\n",
       "      <td>WASHINGTON (Reuters) - The head of a conservat...</td>\n",
       "      <td>politicsNews</td>\n",
       "      <td>December 31, 2017</td>\n",
       "      <td>0</td>\n",
       "    </tr>\n",
       "    <tr>\n",
       "      <th>1</th>\n",
       "      <td>U.S. military to accept transgender recruits o...</td>\n",
       "      <td>WASHINGTON (Reuters) - Transgender people will...</td>\n",
       "      <td>politicsNews</td>\n",
       "      <td>December 29, 2017</td>\n",
       "      <td>0</td>\n",
       "    </tr>\n",
       "    <tr>\n",
       "      <th>2</th>\n",
       "      <td>Senior U.S. Republican senator: 'Let Mr. Muell...</td>\n",
       "      <td>WASHINGTON (Reuters) - The special counsel inv...</td>\n",
       "      <td>politicsNews</td>\n",
       "      <td>December 31, 2017</td>\n",
       "      <td>0</td>\n",
       "    </tr>\n",
       "    <tr>\n",
       "      <th>3</th>\n",
       "      <td>FBI Russia probe helped by Australian diplomat...</td>\n",
       "      <td>WASHINGTON (Reuters) - Trump campaign adviser ...</td>\n",
       "      <td>politicsNews</td>\n",
       "      <td>December 30, 2017</td>\n",
       "      <td>0</td>\n",
       "    </tr>\n",
       "    <tr>\n",
       "      <th>4</th>\n",
       "      <td>Trump wants Postal Service to charge 'much mor...</td>\n",
       "      <td>SEATTLE/WASHINGTON (Reuters) - President Donal...</td>\n",
       "      <td>politicsNews</td>\n",
       "      <td>December 29, 2017</td>\n",
       "      <td>0</td>\n",
       "    </tr>\n",
       "  </tbody>\n",
       "</table>\n",
       "</div>"
      ],
      "text/plain": [
       "                                               title  \\\n",
       "0  As U.S. budget fight looms, Republicans flip t...   \n",
       "1  U.S. military to accept transgender recruits o...   \n",
       "2  Senior U.S. Republican senator: 'Let Mr. Muell...   \n",
       "3  FBI Russia probe helped by Australian diplomat...   \n",
       "4  Trump wants Postal Service to charge 'much mor...   \n",
       "\n",
       "                                                text       subject  \\\n",
       "0  WASHINGTON (Reuters) - The head of a conservat...  politicsNews   \n",
       "1  WASHINGTON (Reuters) - Transgender people will...  politicsNews   \n",
       "2  WASHINGTON (Reuters) - The special counsel inv...  politicsNews   \n",
       "3  WASHINGTON (Reuters) - Trump campaign adviser ...  politicsNews   \n",
       "4  SEATTLE/WASHINGTON (Reuters) - President Donal...  politicsNews   \n",
       "\n",
       "                 date  category  \n",
       "0  December 31, 2017          0  \n",
       "1  December 29, 2017          0  \n",
       "2  December 31, 2017          0  \n",
       "3  December 30, 2017          0  \n",
       "4  December 29, 2017          0  "
      ]
     },
     "execution_count": 46,
     "metadata": {},
     "output_type": "execute_result"
    }
   ],
   "source": [
    "news = pd.concat([real,fake],axis=0,ignore_index=True)\n",
    "# previewing the new dataset\n",
    "news.head()"
   ]
  },
  {
   "cell_type": "code",
   "execution_count": 16,
   "id": "0224e28d",
   "metadata": {
    "execution": {
     "iopub.execute_input": "2023-05-04T12:27:29.119758Z",
     "iopub.status.busy": "2023-05-04T12:27:29.119382Z",
     "iopub.status.idle": "2023-05-04T12:27:29.130842Z",
     "shell.execute_reply": "2023-05-04T12:27:29.129686Z",
     "shell.execute_reply.started": "2023-05-04T12:27:29.119724Z"
    }
   },
   "outputs": [
    {
     "data": {
      "text/html": [
       "<div>\n",
       "<style scoped>\n",
       "    .dataframe tbody tr th:only-of-type {\n",
       "        vertical-align: middle;\n",
       "    }\n",
       "\n",
       "    .dataframe tbody tr th {\n",
       "        vertical-align: top;\n",
       "    }\n",
       "\n",
       "    .dataframe thead th {\n",
       "        text-align: right;\n",
       "    }\n",
       "</style>\n",
       "<table border=\"1\" class=\"dataframe\">\n",
       "  <thead>\n",
       "    <tr style=\"text-align: right;\">\n",
       "      <th></th>\n",
       "      <th>title</th>\n",
       "      <th>text</th>\n",
       "      <th>subject</th>\n",
       "      <th>date</th>\n",
       "      <th>category</th>\n",
       "    </tr>\n",
       "  </thead>\n",
       "  <tbody>\n",
       "    <tr>\n",
       "      <th>3984</th>\n",
       "      <td>Watch Legendary Reporter Ted Koppel Tell Hann...</td>\n",
       "      <td>With the cool, calm authority that comes with ...</td>\n",
       "      <td>News</td>\n",
       "      <td>March 26, 2017</td>\n",
       "      <td>1</td>\n",
       "    </tr>\n",
       "    <tr>\n",
       "      <th>3985</th>\n",
       "      <td>Someone Just Showed What Trump Was Doing At H...</td>\n",
       "      <td>One day after Trump had his 12th golfing trip ...</td>\n",
       "      <td>News</td>\n",
       "      <td>March 26, 2017</td>\n",
       "      <td>1</td>\n",
       "    </tr>\n",
       "    <tr>\n",
       "      <th>3986</th>\n",
       "      <td>Trump Accidentally Makes Democrats Look Great...</td>\n",
       "      <td>Less than 24 hours after Trump claimed he woul...</td>\n",
       "      <td>News</td>\n",
       "      <td>March 26, 2017</td>\n",
       "      <td>1</td>\n",
       "    </tr>\n",
       "    <tr>\n",
       "      <th>3987</th>\n",
       "      <td>Kremlin Threatens Trump: Stop Leaking Like A ...</td>\n",
       "      <td>Snitches get stitches  is Kremlin s message t...</td>\n",
       "      <td>News</td>\n",
       "      <td>March 26, 2017</td>\n",
       "      <td>1</td>\n",
       "    </tr>\n",
       "    <tr>\n",
       "      <th>3988</th>\n",
       "      <td>Republicans Turn On Trump, Throw Him Under Th...</td>\n",
       "      <td>When Republicans celebrated Donald Trump s und...</td>\n",
       "      <td>News</td>\n",
       "      <td>March 25, 2017</td>\n",
       "      <td>1</td>\n",
       "    </tr>\n",
       "  </tbody>\n",
       "</table>\n",
       "</div>"
      ],
      "text/plain": [
       "                                                  title  \\\n",
       "3984   Watch Legendary Reporter Ted Koppel Tell Hann...   \n",
       "3985   Someone Just Showed What Trump Was Doing At H...   \n",
       "3986   Trump Accidentally Makes Democrats Look Great...   \n",
       "3987   Kremlin Threatens Trump: Stop Leaking Like A ...   \n",
       "3988   Republicans Turn On Trump, Throw Him Under Th...   \n",
       "\n",
       "                                                   text subject  \\\n",
       "3984  With the cool, calm authority that comes with ...    News   \n",
       "3985  One day after Trump had his 12th golfing trip ...    News   \n",
       "3986  Less than 24 hours after Trump claimed he woul...    News   \n",
       "3987   Snitches get stitches  is Kremlin s message t...    News   \n",
       "3988  When Republicans celebrated Donald Trump s und...    News   \n",
       "\n",
       "                date  category  \n",
       "3984  March 26, 2017         1  \n",
       "3985  March 26, 2017         1  \n",
       "3986  March 26, 2017         1  \n",
       "3987  March 26, 2017         1  \n",
       "3988  March 25, 2017         1  "
      ]
     },
     "execution_count": 16,
     "metadata": {},
     "output_type": "execute_result"
    }
   ],
   "source": [
    "news.tail()"
   ]
  },
  {
   "cell_type": "code",
   "execution_count": 17,
   "id": "5b97c89a",
   "metadata": {
    "execution": {
     "iopub.execute_input": "2023-05-04T12:27:29.133542Z",
     "iopub.status.busy": "2023-05-04T12:27:29.132613Z",
     "iopub.status.idle": "2023-05-04T12:27:29.151502Z",
     "shell.execute_reply": "2023-05-04T12:27:29.150325Z",
     "shell.execute_reply.started": "2023-05-04T12:27:29.133497Z"
    }
   },
   "outputs": [
    {
     "name": "stdout",
     "output_type": "stream",
     "text": [
      "<class 'pandas.core.frame.DataFrame'>\n",
      "RangeIndex: 3989 entries, 0 to 3988\n",
      "Data columns (total 5 columns):\n",
      " #   Column    Non-Null Count  Dtype \n",
      "---  ------    --------------  ----- \n",
      " 0   title     3989 non-null   object\n",
      " 1   text      3989 non-null   object\n",
      " 2   subject   3989 non-null   object\n",
      " 3   date      3989 non-null   object\n",
      " 4   category  3989 non-null   int64 \n",
      "dtypes: int64(1), object(4)\n",
      "memory usage: 155.9+ KB\n"
     ]
    }
   ],
   "source": [
    "news.info()"
   ]
  },
  {
   "cell_type": "code",
   "execution_count": 18,
   "id": "39adf215",
   "metadata": {
    "execution": {
     "iopub.execute_input": "2023-05-04T12:27:29.154270Z",
     "iopub.status.busy": "2023-05-04T12:27:29.153859Z",
     "iopub.status.idle": "2023-05-04T12:27:29.164339Z",
     "shell.execute_reply": "2023-05-04T12:27:29.163093Z",
     "shell.execute_reply.started": "2023-05-04T12:27:29.154237Z"
    }
   },
   "outputs": [
    {
     "data": {
      "text/plain": [
       "Index(['title', 'text', 'subject', 'date', 'category'], dtype='object')"
      ]
     },
     "execution_count": 18,
     "metadata": {},
     "output_type": "execute_result"
    }
   ],
   "source": [
    "news.columns"
   ]
  },
  {
   "cell_type": "code",
   "execution_count": 19,
   "id": "85784108",
   "metadata": {
    "execution": {
     "iopub.execute_input": "2023-05-04T12:27:29.166059Z",
     "iopub.status.busy": "2023-05-04T12:27:29.165661Z",
     "iopub.status.idle": "2023-05-04T12:27:29.364208Z",
     "shell.execute_reply": "2023-05-04T12:27:29.363199Z",
     "shell.execute_reply.started": "2023-05-04T12:27:29.166021Z"
    }
   },
   "outputs": [],
   "source": [
    "# Dropping columns not to be used\n",
    "news.drop(['title','subject','date'],axis=1,inplace=True)\n",
    "# Removing all punctuations\n",
    "import re\n",
    "news['text'] = news['text'].map(lambda x: re.sub('[-,\\.!?]', '', x))\n",
    "# Converting the text data to lower case\n",
    "news['text'] = news['text'].map(lambda x: x.lower())"
   ]
  },
  {
   "cell_type": "markdown",
   "id": "6f54fbca",
   "metadata": {},
   "source": [
    "#### Creating a word cloud"
   ]
  },
  {
   "cell_type": "code",
   "execution_count": 20,
   "id": "02ee983d",
   "metadata": {
    "execution": {
     "iopub.execute_input": "2023-05-04T12:27:29.367306Z",
     "iopub.status.busy": "2023-05-04T12:27:29.366713Z",
     "iopub.status.idle": "2023-05-04T12:27:34.750947Z",
     "shell.execute_reply": "2023-05-04T12:27:34.750020Z",
     "shell.execute_reply.started": "2023-05-04T12:27:29.367270Z"
    }
   },
   "outputs": [
    {
     "data": {
      "image/png": "[encoded data removed]",
      "text/plain": [
       "<PIL.Image.Image image mode=RGB size=400x200>"
      ]
     },
     "execution_count": 20,
     "metadata": {},
     "output_type": "execute_result"
    }
   ],
   "source": [
    "# Joining the different processed titles together.\n",
    "long_string = ' '.join(news['text'])\n",
    "\n",
    "# Creating a WordCloud object\n",
    "wordcloud = WordCloud()\n",
    "\n",
    "# Generating a word cloud\n",
    "wordcloud.generate(long_string)\n",
    "\n",
    "# Visualizing the word cloud\n",
    "wordcloud.to_image()"
   ]
  },
  {
   "cell_type": "code",
   "execution_count": 38,
   "id": "cb63a06f",
   "metadata": {
    "execution": {
     "iopub.execute_input": "2023-05-04T12:27:34.752801Z",
     "iopub.status.busy": "2023-05-04T12:27:34.752237Z",
     "iopub.status.idle": "2023-05-04T12:31:37.578465Z",
     "shell.execute_reply": "2023-05-04T12:31:37.577525Z",
     "shell.execute_reply.started": "2023-05-04T12:27:34.752763Z"
    }
   },
   "outputs": [],
   "source": [
    "# loading the English language model in spaCy\n",
    "nlp = spacy.load('en_core_web_sm')\n",
    "\n",
    "def preprocess_text(text):\n",
    "    # Parsing the text with Spacy\n",
    "    doc = nlp(text)\n",
    "    \n",
    "    # Lemmatizing the tokens and remove stop words\n",
    "    lemmas = [token.lemma_ for token in doc if not token.is_stop]\n",
    "    \n",
    "    # Joining the lemmas back into a string and return it\n",
    "    return \" \".join(lemmas)\n",
    "\n",
    "# applying the preprocess_text function to the text column\n",
    "news['text'] = news['text'].apply(preprocess_text)"
   ]
  },
  {
   "cell_type": "markdown",
   "id": "5678a44b",
   "metadata": {},
   "source": [
    "### Splitting the data into testing and training data."
   ]
  },
  {
   "cell_type": "code",
   "execution_count": 22,
   "id": "3bfc29da",
   "metadata": {
    "execution": {
     "iopub.execute_input": "2023-05-04T12:38:25.039155Z",
     "iopub.status.busy": "2023-05-04T12:38:25.038412Z",
     "iopub.status.idle": "2023-05-04T12:38:25.050712Z",
     "shell.execute_reply": "2023-05-04T12:38:25.049660Z",
     "shell.execute_reply.started": "2023-05-04T12:38:25.039121Z"
    }
   },
   "outputs": [],
   "source": [
    "# Loading splitting library\n",
    "from sklearn.model_selection import train_test_split\n",
    "\n",
    "# Defining the independent variable\n",
    "X = news['text']\n",
    "\n",
    "# Defining the dependent variable\n",
    "y = news['category']\n",
    "\n",
    "# Splitting the data into training and testing set\n",
    "X_train,X_test,y_train,y_test = train_test_split(X,y,train_size=0.8,random_state=2)"
   ]
  },
  {
   "cell_type": "code",
   "execution_count": 23,
   "id": "b2b9c1e3",
   "metadata": {
    "execution": {
     "iopub.execute_input": "2023-05-04T12:51:19.678738Z",
     "iopub.status.busy": "2023-05-04T12:51:19.678136Z",
     "iopub.status.idle": "2023-05-04T12:51:19.690792Z",
     "shell.execute_reply": "2023-05-04T12:51:19.688995Z",
     "shell.execute_reply.started": "2023-05-04T12:51:19.678697Z"
    }
   },
   "outputs": [
    {
     "data": {
      "text/plain": [
       "(3191,)"
      ]
     },
     "execution_count": 23,
     "metadata": {},
     "output_type": "execute_result"
    }
   ],
   "source": [
    "#X_train = X_train.reshape(-1)\n",
    "X_train.shape"
   ]
  },
  {
   "cell_type": "code",
   "execution_count": 24,
   "id": "285da2b9",
   "metadata": {
    "execution": {
     "iopub.execute_input": "2023-05-04T12:39:48.396709Z",
     "iopub.status.busy": "2023-05-04T12:39:48.395847Z",
     "iopub.status.idle": "2023-05-04T12:39:48.403031Z",
     "shell.execute_reply": "2023-05-04T12:39:48.401711Z",
     "shell.execute_reply.started": "2023-05-04T12:39:48.396663Z"
    }
   },
   "outputs": [
    {
     "name": "stdout",
     "output_type": "stream",
     "text": [
      "(798,)\n",
      "(3191,)\n",
      "(3191,)\n",
      "(798,)\n"
     ]
    }
   ],
   "source": [
    "print(X_test.shape)\n",
    "print(X_train.shape)\n",
    "print(y_train.shape)\n",
    "print(y_test.shape)"
   ]
  },
  {
   "cell_type": "code",
   "execution_count": 25,
   "id": "08bb5734",
   "metadata": {},
   "outputs": [],
   "source": [
    "# tf idf"
   ]
  },
  {
   "cell_type": "code",
   "execution_count": 26,
   "id": "56c5c7b1",
   "metadata": {
    "execution": {
     "iopub.execute_input": "2023-05-04T12:52:58.515509Z",
     "iopub.status.busy": "2023-05-04T12:52:58.515162Z",
     "iopub.status.idle": "2023-05-04T12:53:02.870469Z",
     "shell.execute_reply": "2023-05-04T12:53:02.869494Z",
     "shell.execute_reply.started": "2023-05-04T12:52:58.515481Z"
    }
   },
   "outputs": [],
   "source": [
    "from sklearn.feature_extraction.text import TfidfVectorizer\n",
    "vectorizer = TfidfVectorizer(min_df=0.01,ngram_range=(1,3))\n",
    "vectorizer.fit(X_train)\n",
    "\n",
    "X_train_vect = vectorizer.transform(X_train)\n",
    "X_test_vect = vectorizer.transform(X_test)"
   ]
  },
  {
   "cell_type": "code",
   "execution_count": 27,
   "id": "688691cf",
   "metadata": {
    "execution": {
     "iopub.execute_input": "2023-05-04T12:53:59.123719Z",
     "iopub.status.busy": "2023-05-04T12:53:59.123347Z",
     "iopub.status.idle": "2023-05-04T12:53:59.135250Z",
     "shell.execute_reply": "2023-05-04T12:53:59.133851Z",
     "shell.execute_reply.started": "2023-05-04T12:53:59.123683Z"
    }
   },
   "outputs": [
    {
     "data": {
      "text/plain": [
       "(3191, 3341)"
      ]
     },
     "execution_count": 27,
     "metadata": {},
     "output_type": "execute_result"
    }
   ],
   "source": [
    "type(X_train_vect)\n",
    "X_test_vect.shape\n",
    "X_train_vect.shape"
   ]
  },
  {
   "cell_type": "markdown",
   "id": "eefc240a",
   "metadata": {},
   "source": [
    "## Modeling the Data"
   ]
  },
  {
   "cell_type": "code",
   "execution_count": 28,
   "id": "4c3112a1",
   "metadata": {
    "execution": {
     "iopub.execute_input": "2023-05-04T12:53:11.589927Z",
     "iopub.status.busy": "2023-05-04T12:53:11.589549Z",
     "iopub.status.idle": "2023-05-04T12:53:11.688914Z",
     "shell.execute_reply": "2023-05-04T12:53:11.687681Z",
     "shell.execute_reply.started": "2023-05-04T12:53:11.589895Z"
    }
   },
   "outputs": [
    {
     "name": "stdout",
     "output_type": "stream",
     "text": [
      "Train accuracy - 0.9971795675336885 \n",
      "Test accuracy - 0.9912280701754386\n"
     ]
    }
   ],
   "source": [
    "# Instantiating logistic regression\n",
    "logreg = LogisticRegression(random_state = 42,)\n",
    "logreg.fit(X_train_vect,y_train)\n",
    "\n",
    "# Predicting the value of y_train using the model\n",
    "y_pred_train = logreg.predict(X_train_vect)\n",
    "\n",
    "# Predicting the value of y_test using the model\n",
    "y_pred_test = logreg.predict(X_test_vect)\n",
    "\n",
    "\n",
    "# Accuracy of the training and testing data\n",
    "train_accuracy = accuracy_score(y_train,y_pred_train)\n",
    "test_accuracy = accuracy_score(y_test,y_pred_test)\n",
    "print(f'Train accuracy - {train_accuracy} \\nTest accuracy - {test_accuracy}')"
   ]
  },
  {
   "cell_type": "code",
   "execution_count": 29,
   "id": "dd34bc13",
   "metadata": {
    "execution": {
     "iopub.execute_input": "2023-05-04T12:55:33.170529Z",
     "iopub.status.busy": "2023-05-04T12:55:33.169676Z",
     "iopub.status.idle": "2023-05-04T12:55:33.177959Z",
     "shell.execute_reply": "2023-05-04T12:55:33.177000Z",
     "shell.execute_reply.started": "2023-05-04T12:55:33.170494Z"
    }
   },
   "outputs": [
    {
     "name": "stdout",
     "output_type": "stream",
     "text": [
      "[[394   3]\n",
      " [  4 397]]\n"
     ]
    }
   ],
   "source": [
    "CM = confusion_matrix(y_test, y_pred_test)\n",
    "print(CM)"
   ]
  },
  {
   "cell_type": "code",
   "execution_count": 30,
   "id": "e9ccb660",
   "metadata": {
    "execution": {
     "iopub.execute_input": "2023-05-04T12:55:44.249844Z",
     "iopub.status.busy": "2023-05-04T12:55:44.248934Z",
     "iopub.status.idle": "2023-05-04T12:55:44.512595Z",
     "shell.execute_reply": "2023-05-04T12:55:44.511711Z",
     "shell.execute_reply.started": "2023-05-04T12:55:44.249778Z"
    }
   },
   "outputs": [
    {
     "data": {
      "text/plain": [
       "<AxesSubplot:>"
      ]
     },
     "execution_count": 30,
     "metadata": {},
     "output_type": "execute_result"
    },
    {
     "data": {
      "image/png": "[encoded data removed]",
      "text/plain": [
       "<Figure size 640x480 with 2 Axes>"
      ]
     },
     "metadata": {},
     "output_type": "display_data"
    }
   ],
   "source": [
    "sns.heatmap(CM, annot=True)"
   ]
  },
  {
   "cell_type": "code",
   "execution_count": 31,
   "id": "396a37d8",
   "metadata": {
    "execution": {
     "iopub.execute_input": "2023-05-04T12:55:45.016994Z",
     "iopub.status.busy": "2023-05-04T12:55:45.016403Z",
     "iopub.status.idle": "2023-05-04T12:55:45.036468Z",
     "shell.execute_reply": "2023-05-04T12:55:45.035510Z",
     "shell.execute_reply.started": "2023-05-04T12:55:45.016964Z"
    }
   },
   "outputs": [
    {
     "name": "stdout",
     "output_type": "stream",
     "text": [
      "              precision    recall  f1-score   support\n",
      "\n",
      "        real     0.9969    0.9975    0.9972      1592\n",
      "        fake     0.9975    0.9969    0.9972      1599\n",
      "\n",
      "    accuracy                         0.9972      3191\n",
      "   macro avg     0.9972    0.9972    0.9972      3191\n",
      "weighted avg     0.9972    0.9972    0.9972      3191\n",
      "\n"
     ]
    }
   ],
   "source": [
    "# Classification report for training data\n",
    "categories=['real','fake']\n",
    "print(classification_report(y_train,y_pred_train,target_names=categories,digits=4))"
   ]
  },
  {
   "cell_type": "code",
   "execution_count": 32,
   "id": "785bc29c",
   "metadata": {
    "execution": {
     "iopub.execute_input": "2023-05-04T12:55:48.170598Z",
     "iopub.status.busy": "2023-05-04T12:55:48.170255Z",
     "iopub.status.idle": "2023-05-04T12:55:48.186380Z",
     "shell.execute_reply": "2023-05-04T12:55:48.185281Z",
     "shell.execute_reply.started": "2023-05-04T12:55:48.170569Z"
    }
   },
   "outputs": [
    {
     "name": "stdout",
     "output_type": "stream",
     "text": [
      "              precision    recall  f1-score   support\n",
      "\n",
      "        real     0.9899    0.9924    0.9912       397\n",
      "        fake     0.9925    0.9900    0.9913       401\n",
      "\n",
      "    accuracy                         0.9912       798\n",
      "   macro avg     0.9912    0.9912    0.9912       798\n",
      "weighted avg     0.9912    0.9912    0.9912       798\n",
      "\n"
     ]
    }
   ],
   "source": [
    "# Classification report for testing data\n",
    "print(classification_report(y_test,y_pred_test,target_names=categories,digits=4))"
   ]
  },
  {
   "cell_type": "markdown",
   "id": "46b79b5f",
   "metadata": {},
   "source": [
    "# **Conclusion**\n",
    "\n",
    "Overall, the field of fake news classification is constantly evolving, as researchers and experts work to develop new and more effective methods for detecting and classifying fake news. By continuing to invest in this field, we can help combat the spread of fake news and promote a more informed and democratic society that values accuracy, transparency, and accountability. After analyzing the model's performance, it can be concluded that it displays 99% accuracy rate."
   ]
  }
 ],
 "metadata": {
  "kernelspec": {
   "display_name": "Python 3 (ipykernel)",
   "language": "python",
   "name": "python3"
  },
  "language_info": {
   "codemirror_mode": {
    "name": "ipython",
    "version": 3
   },
   "file_extension": ".py",
   "mimetype": "text/x-python",
   "name": "python",
   "nbconvert_exporter": "python",
   "pygments_lexer": "ipython3",
   "version": "3.9.13"
  }
 },
 "nbformat": 4,
 "nbformat_minor": 5
}
